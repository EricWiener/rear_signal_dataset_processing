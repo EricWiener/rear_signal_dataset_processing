{
 "cells": [
  {
   "cell_type": "markdown",
   "metadata": {},
   "source": [
    "## Dataset folder structure \n",
    "\n",
    "- rear_signal_dataset\n",
    "   - Footage_name\n",
    "      - Footage_name_XXX\n",
    "         - Footage_name_XXX_DDD (sequence of class XXX starting from frame number DDD)\n",
    "            - light_mask\n",
    "               - frameDDDDDDDD.png (frames with a 8 digit number indicating the frame number)\n",
    "               - ...\n",
    "         - Footage_name_XXX_DDD\n",
    "            - light_mask\n",
    "               - frameDDDDDDDD.png\n",
    "               - ...\n",
    "      - Footage_name_XXX\n",
    "         - Footage_name_XXX_DDD\n",
    "            - ...\n",
    "         - Footage_name_XXX_DDD\n",
    "            -...\n",
    "         - Footage_name_XXX_DDD\n",
    "            - ...\n",
    "   - Footage_name\n",
    "      - ...\n",
    "\n",
    "*XXX indicates the label of the signal"
   ]
  },
  {
   "cell_type": "markdown",
   "metadata": {},
   "source": [
    "The dataset first divides the data by Footage_name (ex. \"20160809_route8-08-09-2016_09-50-36_idx99\"). Within each footage directory, there is a sub-directory for each class of label (brake lights on, lights off, etc.). Then, there is a subdirectory for each brief burst of shots. Each burst of shots consists of a single vehicle. These images are nearly identical to each other. "
   ]
  },
  {
   "cell_type": "code",
   "execution_count": 1,
   "metadata": {},
   "outputs": [],
   "source": [
    "from utils import get_immediate_directories, get_label_sequence_from_name, get_split, image_is_valid, get_immediate_images"
   ]
  },
  {
   "cell_type": "markdown",
   "metadata": {},
   "source": [
    "## Read in the list of easy, medium, hard"
   ]
  },
  {
   "cell_type": "code",
   "execution_count": 2,
   "metadata": {},
   "outputs": [
    {
     "output_type": "stream",
     "name": "stdout",
     "text": [
      "E: 569, M: 72, H: 26\n"
     ]
    }
   ],
   "source": [
    "from difficulty_levels import DifficultyLevels, write_difficulty_levels\n",
    "\n",
    "difficulties = DifficultyLevels('./data/Easy.txt', './data/Moderate.txt', './data/Hard.txt')  \n"
   ]
  },
  {
   "cell_type": "markdown",
   "metadata": {},
   "source": [
    "## Get the paths to the images\n",
    "The path to each image is collected per class."
   ]
  },
  {
   "cell_type": "code",
   "execution_count": 3,
   "metadata": {},
   "outputs": [],
   "source": [
    "from collections import defaultdict\n",
    "import random\n",
    "\n",
    "# Seed the random image selector so the output is reproducable\n",
    "random.seed(0)\n",
    "\n",
    "def get_paths_for_images(one_per_sequence=True):\n",
    "    \"\"\"\n",
    "    Gets the path for the images.\n",
    "    - one_per_sequence: if this is true, only one image will be used from each sequence for a particular class.\n",
    "    \n",
    "    If one_per_sequence, it will return a dictionary of form:\n",
    "        {label: [(image_path, difficulty), (image_path, difficulty), (image_path, difficulty), ...]}\n",
    "        \n",
    "    If not one_per_sequence, it will return a dictionary of form:\n",
    "        {label: [(image_path, difficulty, split), (image_path, difficulty, split), (image_path, difficulty, split)]}\n",
    "    \"\"\"\n",
    "    \n",
    "    # Store the path to each of the image paths per class\n",
    "    # label => [(path, difficulty)] where difficulty is \"E\", \"M\", or \"H\"\n",
    "    per_class_image_paths = defaultdict(list)\n",
    "\n",
    "    # Footage directories\n",
    "    footage_dirs = get_immediate_directories('./data')\n",
    "\n",
    "    for f_dir in footage_dirs:\n",
    "        # These are folders corresponding to each class\n",
    "        path_1 = os.path.join('./data', f_dir)\n",
    "        f_class_dirs = get_immediate_directories(path_1)\n",
    "\n",
    "        # Loop through all sequence dirs of form Footage_name_XXX_DDD\n",
    "        for f_class_dir in f_class_dirs:\n",
    "            # The label of the class ex. \"BLO\"\n",
    "            class_label, _ = get_label_sequence_from_name(f_class_dir)\n",
    "            path_2 = os.path.join(path_1, f_class_dir)\n",
    "            footage_sequence_dirs = get_immediate_directories(path_2)\n",
    "\n",
    "            for footage_sequence_dir in footage_sequence_dirs:\n",
    "                # Only used in keeping the whole sequence \n",
    "                split = get_split()\n",
    "                \n",
    "                path_3 = os.path.join(path_2, footage_sequence_dir, \"light_mask\")\n",
    "\n",
    "                difficulty_level = difficulties.get_difficulty_level(footage_sequence_dir)\n",
    "\n",
    "                image_names = get_immediate_images(path_3)\n",
    "                image_names = [os.path.join(path_3, i) for i in image_names]\n",
    "                    \n",
    "                if one_per_sequence:\n",
    "                    # Choose one image randomly\n",
    "                    # All the images are pretty similar, so just need one\n",
    "                    full_image_path = random.choice(image_names)\n",
    "                    \n",
    "                    per_class_image_paths[class_label].append((full_image_path, difficulty_level))\n",
    "                else:\n",
    "                    for full_image_path in image_names:\n",
    "                        per_class_image_paths[class_label].append((full_image_path, difficulty_level, split))\n",
    "    return per_class_image_paths"
   ]
  },
  {
   "cell_type": "markdown",
   "metadata": {},
   "source": [
    "## Extract single image from each sequence\n",
    "The following will extract a single image from each sequence. It will update the names of the images and the new easy, medium, and hard .txt files."
   ]
  },
  {
   "cell_type": "code",
   "execution_count": 4,
   "metadata": {
    "tags": []
   },
   "outputs": [
    {
     "output_type": "stream",
     "name": "stdout",
     "text": [
      "Unrecognized sequence dir name: 20161013_demo_test-10-13-2016_15-51-02_OLO_00001274\n",
      "Unrecognized sequence dir name: 20161013_demo_test-10-13-2016_15-51-02_BOO_00001274\n",
      "Unrecognized sequence dir name: 20161007_demo_surface-10-07-2016_16-14-04_2_BOR_00005877\n",
      "Unrecognized sequence dir name: 20161007_demo_surface-10-07-2016_16-14-04_2_BOO_00005877\n",
      "Unrecognized sequence dir name: 20160915_route_demo2-09-15-2016_18-49-23_OOR_00000215\n",
      "Unrecognized sequence dir name: route-02-23-2016_17-17-51_BOO_9125\n",
      "Unrecognized sequence dir name: 20160920_route_demo-09-20-2016_18-47-39_BLO00001405\n"
     ]
    }
   ],
   "source": [
    "from shutil import copyfile\n",
    "from utils import rm_mkdir\n",
    "\n",
    "per_class_image_paths = get_paths_for_images()\n",
    "\n",
    "output_dir = \"./output\"\n",
    "\n",
    "rm_mkdir(output_dir)\n",
    "\n",
    "# Create directories for each label\n",
    "for label in per_class_image_paths:\n",
    "    os.mkdir(os.path.join(output_dir, label))\n",
    "\n",
    "# Move files in per_class_image_paths to new directories\n",
    "new_easy = []\n",
    "new_medium = []\n",
    "new_hard = []\n",
    "\n",
    "frame_number = 0\n",
    "\n",
    "# Copy the images into the new paths\n",
    "for label in per_class_image_paths:\n",
    "    output_dir_path = os.path.join(output_dir, label)\n",
    "    \n",
    "    for image_path, difficulty in per_class_image_paths[label]:\n",
    "        # Create a new name for the image\n",
    "        output_image_name = 'frame_' + f'{frame_number:05}.png'\n",
    "        frame_number += 1\n",
    "        \n",
    "        output_path = os.path.join(output_dir_path, output_image_name)\n",
    "        \n",
    "        # Copy the file over\n",
    "        copyfile(image_path, output_path)\n",
    "        \n",
    "        # Add the new name to the difficulty level path\n",
    "        if difficulty == \"E\":\n",
    "            new_easy.append(output_image_name)\n",
    "        elif difficulty == \"M\":\n",
    "            new_medium.append(output_image_name)\n",
    "        elif difficulty == \"H\":\n",
    "            new_hard.append(output_image_name)"
   ]
  },
  {
   "cell_type": "code",
   "execution_count": 5,
   "metadata": {},
   "outputs": [],
   "source": [
    "write_difficulty_levels(output_dir, new_easy, new_medium, new_hard)"
   ]
  },
  {
   "cell_type": "markdown",
   "metadata": {},
   "source": [
    "## Use the entire sequence\n",
    "The following can be used to make use of the entire image sequence. It ensures that each sequence will be used for either training, validation, or testing. This means the same car can only appear in a single split."
   ]
  },
  {
   "cell_type": "code",
   "execution_count": 6,
   "metadata": {},
   "outputs": [
    {
     "output_type": "stream",
     "name": "stdout",
     "text": [
      "Unrecognized sequence dir name: 20161013_demo_test-10-13-2016_15-51-02_OLO_00001274\n",
      "Unrecognized sequence dir name: 20161013_demo_test-10-13-2016_15-51-02_BOO_00001274\n",
      "Unrecognized sequence dir name: 20161007_demo_surface-10-07-2016_16-14-04_2_BOR_00005877\n",
      "Unrecognized sequence dir name: 20161007_demo_surface-10-07-2016_16-14-04_2_BOO_00005877\n",
      "Unrecognized sequence dir name: 20160915_route_demo2-09-15-2016_18-49-23_OOR_00000215\n",
      "Unrecognized sequence dir name: route-02-23-2016_17-17-51_BOO_9125\n",
      "Unrecognized sequence dir name: 20160920_route_demo-09-20-2016_18-47-39_BLO00001405\n"
     ]
    }
   ],
   "source": [
    "from shutil import copyfile\n",
    "from utils import rm_mkdir\n",
    "\n",
    "per_class_image_paths = get_paths_for_images(one_per_sequence=False)\n",
    "\n",
    "splits = ['train', 'val', 'test']\n",
    "\n",
    "output_dir = \"./sequence_output\"\n",
    "\n",
    "rm_mkdir(output_dir)\n",
    "\n",
    "for s in splits:\n",
    "    # Make sub-directory\n",
    "    split_directory = os.path.join(output_dir, s)\n",
    "    os.mkdir(split_directory)\n",
    "    \n",
    "    # Create directories for each label\n",
    "    for label in per_class_image_paths:\n",
    "        os.mkdir(os.path.join(split_directory, label))\n",
    "\n",
    "# Move files in per_class_image_paths to new directories\n",
    "new_easy = []\n",
    "new_medium = []\n",
    "new_hard = []\n",
    "\n",
    "frame_number = 0\n",
    "\n",
    "# Copy the images into the new paths\n",
    "for label in per_class_image_paths:\n",
    "    for image_path, difficulty, split in per_class_image_paths[label]:\n",
    "        output_dir_path = './sequence_output/{}/{}'.format(split, label)\n",
    "        \n",
    "        # Create a new name for the image\n",
    "        output_image_name = 'frame_' + f'{frame_number:05}.png'\n",
    "        frame_number += 1\n",
    "        \n",
    "        output_path = os.path.join(output_dir_path, output_image_name)\n",
    "        \n",
    "        # Copy the file over\n",
    "        copyfile(image_path, output_path)\n",
    "        \n",
    "        # Add the new name to the difficulty level path\n",
    "        if difficulty == \"E\":\n",
    "            new_easy.append(output_image_name)\n",
    "        elif difficulty == \"M\":\n",
    "            new_medium.append(output_image_name)\n",
    "        elif difficulty == \"H\":\n",
    "            new_hard.append(output_image_name)"
   ]
  },
  {
   "cell_type": "code",
   "execution_count": 7,
   "metadata": {},
   "outputs": [],
   "source": [
    "write_difficulty_levels('./sequence_output', new_easy, new_medium, new_hard)"
   ]
  }
 ],
 "metadata": {
  "kernelspec": {
   "display_name": "Python 3.7.6 64-bit",
   "language": "python",
   "name": "python37664bit031f3f5467a341ae8652a235d328a911"
  },
  "language_info": {
   "codemirror_mode": {
    "name": "ipython",
    "version": 3
   },
   "file_extension": ".py",
   "mimetype": "text/x-python",
   "name": "python",
   "nbconvert_exporter": "python",
   "pygments_lexer": "ipython3",
   "version": "3.7.6-final"
  }
 },
 "nbformat": 4,
 "nbformat_minor": 2
}