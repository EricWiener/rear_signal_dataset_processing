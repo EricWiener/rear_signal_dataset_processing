{
 "cells": [
  {
   "cell_type": "markdown",
   "metadata": {},
   "source": [
    "## Dataset folder structure \n",
    "\n",
    "- rear_signal_dataset\n",
    "   - Footage_name\n",
    "      - Footage_name_XXX\n",
    "         - Footage_name_XXX_DDD (sequence of class XXX starting from frame number DDD)\n",
    "            - light_mask\n",
    "               - frameDDDDDDDD.png (frames with a 8 digit number indicating the frame number)\n",
    "               - ...\n",
    "         - Footage_name_XXX_DDD\n",
    "            - light_mask\n",
    "               - frameDDDDDDDD.png\n",
    "               - ...\n",
    "      - Footage_name_XXX\n",
    "         - Footage_name_XXX_DDD\n",
    "            - ...\n",
    "         - Footage_name_XXX_DDD\n",
    "            -...\n",
    "         - Footage_name_XXX_DDD\n",
    "            - ...\n",
    "   - Footage_name\n",
    "      - ...\n",
    "\n",
    "*XXX indicates the label of the signal\n",
    "\n",
    "\n",
    "## Output Dataset folder structure \n",
    "\n",
    "```\n",
    "|_ frames\n",
    "|  |_ [video name 0]\n",
    "|  |  |_ [video name 0]_000001.jpg\n",
    "|  |  |_ [video name 0]_000002.jpg\n",
    "|  |  |_ ...\n",
    "|  |_ [video name 1]\n",
    "|     |_ [video name 1]_000001.jpg\n",
    "|     |_ [video name 1]_000002.jpg\n",
    "|     |_ ...\n",
    "|_ frame_lists\n",
    "|  |_ train.csv\n",
    "|  |_ test.csv\n",
    "|  |_ val.csv\n",
    "```"
   ]
  },
  {
   "cell_type": "markdown",
   "metadata": {},
   "source": [
    "The dataset first divides the data by Footage_name (ex. \"20160809_route8-08-09-2016_09-50-36_idx99\"). Within each footage directory, there is a sub-directory for each class of label (brake lights on, lights off, etc.). Then, there is a subdirectory for each brief burst of shots. Each burst of shots consists of a single vehicle. These images are nearly identical to each other. "
   ]
  },
  {
   "cell_type": "code",
   "execution_count": 1,
   "metadata": {},
   "outputs": [],
   "source": [
    "from utils import get_immediate_directories, get_label_sequence_from_name, get_split, image_is_valid, get_immediate_images"
   ]
  },
  {
   "cell_type": "markdown",
   "metadata": {},
   "source": [
    "## Read in the list of easy, medium, hard"
   ]
  },
  {
   "cell_type": "code",
   "execution_count": 2,
   "metadata": {},
   "outputs": [
    {
     "output_type": "stream",
     "name": "stdout",
     "text": [
      "E: 569, M: 72, H: 26\n"
     ]
    }
   ],
   "source": [
    "from difficulty_levels import DifficultyLevels, write_difficulty_levels\n",
    "\n",
    "difficulties = DifficultyLevels('./data/Easy.txt', './data/Moderate.txt', './data/Hard.txt')  \n"
   ]
  },
  {
   "source": [
    "Check the total number of .png files. We can use this to ensure our final number of detected .png's is correct\n"
   ],
   "cell_type": "markdown",
   "metadata": {}
  },
  {
   "cell_type": "code",
   "execution_count": 3,
   "metadata": {},
   "outputs": [
    {
     "output_type": "stream",
     "name": "stdout",
     "text": [
      "Total pngs: 63918\n"
     ]
    }
   ],
   "source": [
    "import glob\n",
    "\n",
    "paths = [x for x in glob.glob('data/**/*.png', recursive=True)]\n",
    "print(\"Total pngs: {}\".format(len(paths)))"
   ]
  },
  {
   "cell_type": "markdown",
   "metadata": {},
   "source": [
    "## Get the paths to the images\n",
    "The path to each image is collected per class.\n",
    "\n",
    "`per_class_image_sequences` is a default dictionary of form:\n",
    "\n",
    "```\n",
    "{\n",
    "    <label>: {\n",
    "        <sequence>: {\n",
    "            difficulty: 'E', // 'E', 'M', 'H'\n",
    "            image_paths: [...],\n",
    "            split: \"train\", // \"train\", \"test\", \"val\"\n",
    "        },\n",
    "        <sequence>: {\n",
    "            difficulty: 'E', // 'E', 'M', 'H'\n",
    "            image_paths: [...],\n",
    "            split: \"val\",\n",
    "        },\n",
    "    },\n",
    "    <label>: {\n",
    "        // ...\n",
    "    },\n",
    "}\n",
    "```"
   ]
  },
  {
   "cell_type": "code",
   "execution_count": 4,
   "metadata": {},
   "outputs": [
    {
     "output_type": "stream",
     "name": "stdout",
     "text": [
      "Unrecognized sequence dir name: 20161013_demo_test-10-13-2016_15-51-02_OLO_00001274\n",
      "Unrecognized sequence dir name: 20161013_demo_test-10-13-2016_15-51-02_BOO_00001274\n",
      "Unrecognized sequence dir name: 20161007_demo_surface-10-07-2016_16-14-04_2_BOR_00005877\n",
      "Unrecognized sequence dir name: 20161007_demo_surface-10-07-2016_16-14-04_2_BOO_00005877\n",
      "Unrecognized sequence dir name: 20160915_route_demo2-09-15-2016_18-49-23_OOR_00000215\n",
      "Unrecognized sequence dir name: route-02-23-2016_17-17-51_BOO_9125\n",
      "Unrecognized sequence dir name: 20160920_route_demo-09-20-2016_18-47-39_BLO00001405\n"
     ]
    }
   ],
   "source": [
    "from utils import get_paths_for_image_sequences\n",
    "\n",
    "per_class_image_sequences = get_paths_for_image_sequences(difficulties)"
   ]
  },
  {
   "cell_type": "markdown",
   "metadata": {},
   "source": [
    "## Re-arrange images + save original sequence\n",
    "The following can be used to move all the images into a directory for the class they represent. Having a shallower folder structure greatly improves performance on Colab. The original organization and what images belonged to what sequences will be saved in a pickled dictionary."
   ]
  },
  {
   "cell_type": "code",
   "execution_count": 7,
   "metadata": {
    "tags": []
   },
   "outputs": [
    {
     "output_type": "stream",
     "name": "stdout",
     "text": [
      "Total frames: 63783\n"
     ]
    }
   ],
   "source": [
    "from shutil import copyfile, rmtree\n",
    "from utils import rm_mkdir\n",
    "\n",
    "splits = ['train', 'val', 'test']\n",
    "\n",
    "output_dir = \"./slowfast_output\"\n",
    "output_frame_dir = os.path.join(output_dir, \"frames\")\n",
    "\n",
    "rm_mkdir(output_dir)\n",
    "rm_mkdir(output_frame_dir)\n",
    "\n",
    "# 2D list to store [sequence name, class, difficulty level]\n",
    "metadata = {key: [] for key in splits}\n",
    "total_frames_processed = 0\n",
    "\n",
    "# Copy the images into the new paths\n",
    "for label in per_class_image_sequences:\n",
    "    for sequence in per_class_image_sequences[label]:\n",
    "        split = per_class_image_sequences[label][sequence][\"split\"]\n",
    "        difficulty = per_class_image_sequences[label][sequence][\"difficulty\"]\n",
    "        output_dir_path = os.path.join(output_frame_dir, sequence)\n",
    "\n",
    "        # Make the directory for the sequence folder\n",
    "        rm_mkdir(output_dir_path)\n",
    "\n",
    "        metadata[split].append([sequence, label, difficulty])\n",
    "\n",
    "        # Start counting the frame_number from 0 in each sequence file\n",
    "        frame_number = 0\n",
    "\n",
    "        for idx, image_path in enumerate(per_class_image_sequences[label][sequence][\"image_paths\"]):\n",
    "            # Create a new name for the image\n",
    "            output_image_name = 'frame_' + f'{frame_number:05}.png'\n",
    "            frame_number += 1\n",
    "\n",
    "            output_path = os.path.join(output_dir_path, output_image_name)\n",
    "\n",
    "            # Copy the file over\n",
    "            copyfile(image_path, output_path)\n",
    "            \n",
    "        total_frames_processed += frame_number\n",
    "\n",
    "print(\"Total frames: {}\".format(total_frames_processed))"
   ]
  },
  {
   "source": [
    "## Save Metadata\n",
    "Create train.csv, test.csv, and val.csv from `metadata`"
   ],
   "cell_type": "markdown",
   "metadata": {}
  },
  {
   "cell_type": "code",
   "execution_count": 18,
   "metadata": {},
   "outputs": [],
   "source": [
    "import pandas as pd\n",
    "\n",
    "# Create data frames\n",
    "dfs = {key: pd.DataFrame(metadata[key], columns =['Sequence ID', 'Label', 'Difficulty']) for key in splits}\n",
    "\n",
    "csv_dir = os.path.join(output_dir, \"frame_lists\")\n",
    "rm_mkdir(csv_dir)\n",
    "\n",
    "# save to CSV\n",
    "for key in dfs:\n",
    "    # Drop the difficulty level, since we don't need it\n",
    "    dfs[key] = dfs[key].drop(columns=['Difficulty'])\n",
    "\n",
    "    # save as a CSV\n",
    "    dfs[key].to_csv(os.path.join(csv_dir, \"{}.csv\".format(key)), index=False)"
   ]
  },
  {
   "cell_type": "code",
   "execution_count": 30,
   "metadata": {},
   "outputs": [],
   "source": [
    "write_difficulty_levels(output_dir, new_easy, new_medium, new_hard)"
   ]
  },
  {
   "cell_type": "code",
   "execution_count": 31,
   "metadata": {},
   "outputs": [],
   "source": [
    "import pickle\n",
    "\n",
    "dictionary_pickle_name = os.path.join(output_dir, 'lstm_sequence_dict.pickle')\n",
    "\n",
    "# Remove the defaultdict lambda to create keys\n",
    "# This is required in order to pickle it\n",
    "per_class_image_sequences.default_factory = None\n",
    "\n",
    "with open(dictionary_pickle_name, 'wb') as handle:\n",
    "    pickle.dump(per_class_image_sequences, handle)"
   ]
  },
  {
   "cell_type": "code",
   "execution_count": 40,
   "metadata": {},
   "outputs": [
    {
     "output_type": "execute_result",
     "data": {
      "text/plain": [
       "['frame_00000.png',\n",
       " 'frame_00001.png',\n",
       " 'frame_00002.png',\n",
       " 'frame_00003.png',\n",
       " 'frame_00004.png']"
      ]
     },
     "metadata": {},
     "execution_count": 40
    }
   ],
   "source": [
    "# Check that the pickle was successful\n",
    "with open(dictionary_pickle_name, 'rb') as handle:\n",
    "    test_dict = pickle.load(handle)\n",
    "\n",
    "test_dict['BLO']['20160915_route_demo1-09-15-2016_18-28-53_BLO_00000492']['updated_name'][:5]"
   ]
  }
 ],
 "metadata": {
  "kernelspec": {
   "display_name": "Python 3.7.6 64-bit",
   "language": "python",
   "name": "python37664bit031f3f5467a341ae8652a235d328a911"
  },
  "language_info": {
   "codemirror_mode": {
    "name": "ipython",
    "version": 3
   },
   "file_extension": ".py",
   "mimetype": "text/x-python",
   "name": "python",
   "nbconvert_exporter": "python",
   "pygments_lexer": "ipython3",
   "version": "3.7.6-final"
  }
 },
 "nbformat": 4,
 "nbformat_minor": 2
}